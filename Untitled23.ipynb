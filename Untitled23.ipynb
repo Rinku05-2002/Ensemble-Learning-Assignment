{
  "cells": [
    {
      "cell_type": "markdown",
      "metadata": {
        "id": "KwnVdgYdJXAO"
      },
      "source": [
        "#Ensemble Learning"
      ]
    },
    {
      "cell_type": "markdown",
      "metadata": {
        "id": "tJoW7Uf7JhVk"
      },
      "source": [
        "## Theoretical"
      ]
    },
    {
      "cell_type": "markdown",
      "metadata": {
        "id": "SQ8ErXlLJk14"
      },
      "source": [
        "1. Can we use Bagging for regression problems?\n",
        "\n",
        "Answer:\n",
        "\n",
        "**Bagging for Regression Problems**\n",
        "\n",
        "Bagging (Bootstrap Aggregating) is an ensemble technique that can be applied to both **classification and regression** tasks. The main idea of bagging is to reduce variance and improve the stability of a model by combining the predictions of multiple base learners trained on different bootstrap samples of the training data.\n",
        "\n",
        "In the case of **regression problems**:\n",
        "\n",
        "1. Multiple bootstrap samples are drawn from the original dataset.\n",
        "2. A base regressor (commonly a Decision Tree) is trained on each bootstrap sample.\n",
        "3. For prediction, instead of majority voting (used in classification), the outputs of all regressors are **averaged**.\n",
        "\n",
        "This averaging process helps to smooth out the noise present in individual models and produces a more robust prediction. Bagging is particularly effective with high-variance models like decision trees, which tend to overfit the training data when used alone.\n",
        "\n",
        "**Advantages of Bagging in Regression:**\n",
        "\n",
        "* Reduces variance of predictions.\n",
        "* Improves generalization performance.\n",
        "* Makes predictions more stable and less sensitive to fluctuations in the training set.\n",
        "\n",
        "**Examples:**\n",
        "\n",
        "* Bagging Regressor in scikit-learn (`sklearn.ensemble.BaggingRegressor`).\n",
        "* Random Forest Regressor, which is an extension of bagging with additional random feature selection.\n",
        "\n",
        "**Conclusion:**\n",
        "Yes, bagging can be effectively used for regression problems. It works by training multiple regressors on bootstrapped datasets and averaging their outputs, leading to improved accuracy and reduced overfitting compared to a single regressor.\n",
        "\n",
        "---"
      ]
    },
    {
      "cell_type": "markdown",
      "metadata": {
        "id": "oDlURPHtPO6I"
      },
      "source": [
        "**2. What is Multiple Model Training?**\n",
        "\n",
        "**Answer:**\n",
        "\n",
        "**Multiple Model Training (Ensemble Learning)**\n",
        "\n",
        "Multiple model training involves training **several models** and then combining their outputs to make the final prediction. This approach is also known as **ensemble learning**. By aggregating predictions, it reduces variance, bias, and improves accuracy compared to a single model.\n",
        "\n",
        "**Characteristics:**\n",
        "\n",
        "1. Several models are trained on data (same or resampled).\n",
        "2. Final prediction is obtained by **averaging** (regression) or **voting** (classification).\n",
        "3. Provides better generalization and stability.\n",
        "4. More computationally expensive and harder to interpret.\n",
        "5. Works well with high-variance models like decision trees.\n",
        "\n",
        "**Examples:**\n",
        "\n",
        "* Bagging\n",
        "* Boosting\n",
        "* Random Forest\n",
        "* Stacking\n",
        "\n",
        "**Conclusion:**\n",
        "Multiple model training combines the strengths of different models, making predictions more accurate and robust, though with higher complexity.\n",
        "\n",
        "---"
      ]
    },
    {
      "cell_type": "markdown",
      "metadata": {
        "id": "13pFPTWIPVzE"
      },
      "source": [
        "**3. Explain the concept of Feature Randomness in Random Forest**\n",
        "\n",
        "**Answer:**\n",
        "\n",
        "**Feature Randomness in Random Forest**\n",
        "\n",
        "Random Forest is an ensemble learning method based on **bagging** with additional randomness introduced to reduce correlation between trees. One of the key techniques used in Random Forest is **feature randomness** (also called *random feature selection*).\n",
        "\n",
        "Instead of considering **all features** while splitting a node (as done in a normal decision tree), Random Forest randomly selects a **subset of features** at each split. The best split is then chosen only from this random subset.\n",
        "\n",
        "**Working of Feature Randomness:**\n",
        "\n",
        "1. For each split in a decision tree, Random Forest selects a random subset of features.\n",
        "2. Among these features, the best split is chosen based on a criterion (e.g., Gini index, Information Gain, MSE).\n",
        "3. This process ensures that not all trees focus on the same dominant features, leading to more diverse trees.\n",
        "\n",
        "**Advantages of Feature Randomness:**\n",
        "\n",
        "* Reduces correlation between trees in the forest.\n",
        "* Improves model diversity and generalization.\n",
        "* Prevents over-reliance on strong predictors.\n",
        "* Helps in handling high-dimensional data.\n",
        "\n",
        "**Example:**\n",
        "\n",
        "* In classification, typically √(number of features) are selected at each split.\n",
        "* In regression, typically (number of features)/3 are selected at each split.\n",
        "\n",
        "**Conclusion:**\n",
        "Feature randomness ensures that Random Forest trees are diverse and less correlated. By selecting a random subset of features at each split, the model achieves higher accuracy, robustness, and better generalization compared to standard decision trees.\n",
        "\n",
        "---\n"
      ]
    },
    {
      "cell_type": "markdown",
      "metadata": {
        "id": "vUjrCw9vPf52"
      },
      "source": [
        "**4. What is OOB (Out-of-Bag) Score?**\n",
        "\n",
        "**Answer:**\n",
        "\n",
        "**OOB (Out-of-Bag) Score**\n",
        "\n",
        "In Random Forest, each tree is trained on a **bootstrap sample** of the dataset. This means some data points are selected (with replacement) to train the tree, while about **one-third of the data is left out** from that sample. These left-out data points are called **Out-of-Bag (OOB) samples**.\n",
        "\n",
        "The **OOB Score** is the performance measure of the Random Forest calculated using these OOB samples. For each data point, the prediction is made using only the trees that did not include that data point in their training. The accuracy (for classification) or error (for regression) of these predictions is called the OOB Score.\n",
        "\n",
        "**Working of OOB Score:**\n",
        "\n",
        "1. About 63% of data is used to train each tree (bootstrap sample).\n",
        "2. The remaining ~37% is OOB data, not seen by that tree.\n",
        "3. Each OOB sample is predicted using the trees where it was not included.\n",
        "4. The aggregated results form the OOB Score, which is an unbiased estimate of test accuracy.\n",
        "\n",
        "**Advantages of OOB Score:**\n",
        "\n",
        "* Provides an **internal cross-validation** within Random Forest.\n",
        "* Eliminates the need for a separate validation dataset.\n",
        "* Saves computation and data resources.\n",
        "* Offers an unbiased estimate of generalization error.\n",
        "\n",
        "**Example:**\n",
        "\n",
        "* In scikit-learn, setting `oob_score=True` in `RandomForestClassifier` or `RandomForestRegressor` automatically computes the OOB Score.\n",
        "\n",
        "**Conclusion:**\n",
        "The OOB Score is an internal validation technique in Random Forest that evaluates model performance using out-of-bag samples. It provides a reliable, unbiased estimate of accuracy without needing a separate test set.\n",
        "\n",
        "---\n"
      ]
    },
    {
      "cell_type": "markdown",
      "metadata": {
        "id": "xUm9t5qpP4om"
      },
      "source": [
        "**5. How can you measure the importance of features in a Random Forest model?**\n",
        "\n",
        "**Answer:**\n",
        "\n",
        "**Feature Importance in Random Forest**\n",
        "\n",
        "Random Forest can naturally measure the **importance of features** used in making predictions. Feature importance indicates how much each feature contributes to reducing error in the model. Random Forest computes this by evaluating how much each feature improves the **splitting criterion** (e.g., Gini impurity for classification, MSE for regression) across all trees in the forest.\n",
        "\n",
        "**Methods to Measure Feature Importance:**\n",
        "\n",
        "1. **Mean Decrease in Impurity (MDI):**\n",
        "\n",
        "   * For each feature, calculate how much the splitting criterion (like Gini impurity or MSE) decreases when the feature is used in a node.\n",
        "   * Average this decrease across all trees.\n",
        "   * Features causing larger decreases are more important.\n",
        "\n",
        "2. **Mean Decrease in Accuracy (Permutation Importance):**\n",
        "\n",
        "   * Randomly shuffle the values of a feature in the dataset.\n",
        "   * Measure the decrease in model accuracy or increase in error after shuffling.\n",
        "   * Features that cause a larger drop in performance are more important.\n",
        "\n",
        "**Advantages:**\n",
        "\n",
        "* Identifies the most influential features for predictions.\n",
        "* Helps in feature selection and dimensionality reduction.\n",
        "* Improves model interpretability.\n",
        "\n",
        "**Example:**\n",
        "\n",
        "* In scikit-learn, `feature_importances_` attribute of `RandomForestClassifier` or `RandomForestRegressor` gives the importance score for each feature.\n",
        "* Permutation importance can be calculated using `permutation_importance` function in scikit-learn.\n",
        "\n",
        "**Conclusion:**\n",
        "Feature importance in Random Forest helps identify which features contribute most to prediction accuracy. It can be measured using either the **decrease in impurity** across trees or the **drop in accuracy** after feature permutation.\n",
        "\n",
        "---\n"
      ]
    },
    {
      "cell_type": "markdown",
      "metadata": {
        "id": "Dqb6qz5HP8LJ"
      },
      "source": [
        "**6. Explain the working principle of a Bagging Classifier**\n",
        "\n",
        "**Answer:**\n",
        "\n",
        "**Bagging Classifier**\n",
        "\n",
        "Bagging (Bootstrap Aggregating) is an ensemble learning technique used to improve the accuracy and stability of machine learning models, particularly **high-variance models** like decision trees. A Bagging Classifier combines the predictions of multiple base classifiers trained on different subsets of the training data.\n",
        "\n",
        "**Working Principle:**\n",
        "\n",
        "1. **Bootstrap Sampling:**\n",
        "\n",
        "   * Generate multiple **bootstrap samples** from the original training dataset.\n",
        "   * Each sample is created by randomly selecting data points **with replacement**, so some points may appear multiple times while others may be left out.\n",
        "\n",
        "2. **Training Base Classifiers:**\n",
        "\n",
        "   * A separate base classifier (e.g., Decision Tree) is trained on each bootstrap sample.\n",
        "   * Each classifier learns independently from its own subset of data.\n",
        "\n",
        "3. **Making Predictions:**\n",
        "\n",
        "   * For **classification**, the final prediction is made by **majority voting** among all base classifiers.\n",
        "   * For **regression**, predictions are **averaged** instead of voting.\n",
        "\n",
        "4. **Reducing Variance:**\n",
        "\n",
        "   * Aggregating multiple classifiers reduces the overall variance of the model.\n",
        "   * Each classifier may overfit its bootstrap sample, but averaging their predictions stabilizes the results.\n",
        "\n",
        "**Advantages:**\n",
        "\n",
        "* Reduces overfitting and variance.\n",
        "* Improves prediction accuracy.\n",
        "* Simple to implement and parallelize.\n",
        "\n",
        "**Examples:**\n",
        "\n",
        "* `BaggingClassifier` in scikit-learn.\n",
        "* Random Forest Classifier (a special case of bagging with feature randomness).\n",
        "\n",
        "**Conclusion:**\n",
        "A Bagging Classifier works by training multiple models on bootstrapped datasets and combining their predictions using majority voting. This ensemble approach produces more stable and accurate predictions compared to a single classifier.\n",
        "\n",
        "---\n"
      ]
    },
    {
      "cell_type": "markdown",
      "metadata": {
        "id": "5AjPl2DqQOo7"
      },
      "source": [
        "**7. How do you evaluate a Bagging Classifier’s performance?**\n",
        "\n",
        "**Answer:**\n",
        "\n",
        "**Evaluating a Bagging Classifier**\n",
        "\n",
        "A Bagging Classifier is an ensemble of multiple base classifiers. Its performance can be evaluated using standard classification metrics and additional ensemble-specific techniques.\n",
        "\n",
        "**Methods to Evaluate Performance:**\n",
        "\n",
        "1. **Train-Test Split / Cross-Validation:**\n",
        "\n",
        "   * Split the dataset into training and testing sets or use k-fold cross-validation.\n",
        "   * Train the Bagging Classifier on the training set and evaluate predictions on the test set.\n",
        "\n",
        "2. **Accuracy:**\n",
        "\n",
        "   * Measure the proportion of correctly predicted samples:\n",
        "     [\n",
        "     \\text{Accuracy} = \\frac{\\text{Number of Correct Predictions}}{\\text{Total Predictions}}\n",
        "     ]\n",
        "\n",
        "3. **Precision, Recall, and F1-Score:**\n",
        "\n",
        "   * For imbalanced datasets, accuracy may be misleading.\n",
        "   * Precision measures the proportion of true positive predictions among all positive predictions.\n",
        "   * Recall measures the proportion of true positive predictions among all actual positives.\n",
        "   * F1-Score is the harmonic mean of precision and recall.\n",
        "\n",
        "4. **Confusion Matrix:**\n",
        "\n",
        "   * Summarizes predictions versus actual labels for each class.\n",
        "   * Helps identify which classes are misclassified.\n",
        "\n",
        "5. **Out-of-Bag (OOB) Score:**\n",
        "\n",
        "   * Since Bagging uses bootstrap sampling, about 1/3 of the training data is left out for each base classifier.\n",
        "   * OOB score is computed by predicting these left-out samples using the corresponding classifiers.\n",
        "   * Provides an unbiased estimate of generalization accuracy without a separate validation set.\n",
        "\n",
        "6. **ROC Curve and AUC (for binary classification):**\n",
        "\n",
        "   * Plot True Positive Rate vs. False Positive Rate at different thresholds.\n",
        "   * AUC measures the model’s ability to distinguish between classes.\n",
        "\n"
      ]
    },
    {
      "cell_type": "code",
      "execution_count": 3,
      "metadata": {
        "id": "Tfyt1tf2QSZy",
        "colab": {
          "base_uri": "https://localhost:8080/"
        },
        "outputId": "900ae2ad-f1a8-48a9-a3b9-ad0f72184bdc"
      },
      "outputs": [
        {
          "output_type": "stream",
          "name": "stdout",
          "text": [
            "Accuracy: 1.0\n",
            "              precision    recall  f1-score   support\n",
            "\n",
            "           0       1.00      1.00      1.00        19\n",
            "           1       1.00      1.00      1.00        13\n",
            "           2       1.00      1.00      1.00        13\n",
            "\n",
            "    accuracy                           1.00        45\n",
            "   macro avg       1.00      1.00      1.00        45\n",
            "weighted avg       1.00      1.00      1.00        45\n",
            "\n",
            "OOB Score: 0.9333333333333333\n"
          ]
        }
      ],
      "source": [
        "from sklearn.datasets import load_iris\n",
        "from sklearn.model_selection import train_test_split\n",
        "from sklearn.ensemble import BaggingClassifier\n",
        "from sklearn.metrics import accuracy_score, classification_report\n",
        "\n",
        "data = load_iris()\n",
        "X = data.data\n",
        "y = data.target\n",
        "\n",
        "X_train, X_test, y_train, y_test = train_test_split(X, y, test_size=0.3, random_state=42)\n",
        "\n",
        "model = BaggingClassifier(n_estimators=50, oob_score=True, random_state=42)\n",
        "model.fit(X_train, y_train)\n",
        "\n",
        "y_pred = model.predict(X_test)\n",
        "\n",
        "print(\"Accuracy:\", accuracy_score(y_test, y_pred))\n",
        "print(classification_report(y_test, y_pred))\n",
        "print(\"OOB Score:\", model.oob_score_)\n"
      ]
    },
    {
      "cell_type": "markdown",
      "metadata": {
        "id": "dR0fC57rQeKk"
      },
      "source": [
        "**Conclusion:**\n",
        "The performance of a Bagging Classifier is evaluated using **accuracy, precision, recall, F1-score, confusion matrix, ROC-AUC**, and optionally the **OOB score**. These metrics provide a comprehensive assessment of prediction accuracy and generalization.\n",
        "\n",
        "---\n"
      ]
    },
    {
      "cell_type": "markdown",
      "metadata": {
        "id": "lq_A2BOSQihS"
      },
      "source": [
        "**8. How does a Bagging Regressor work?**\n",
        "\n",
        "**Answer:**\n",
        "\n",
        "**Bagging Regressor**\n",
        "\n",
        "A Bagging Regressor is an ensemble learning technique used to improve the stability and accuracy of regression models. It is based on **bagging (Bootstrap Aggregating)** and works by combining predictions from multiple base regressors trained on different subsets of the data.\n",
        "\n",
        "**Working Principle:**\n",
        "\n",
        "1. **Bootstrap Sampling:**\n",
        "\n",
        "   * Multiple bootstrap samples are generated from the original training dataset by **random sampling with replacement**.\n",
        "   * Each sample may contain repeated data points and leave out others.\n",
        "\n",
        "2. **Training Base Regressors:**\n",
        "\n",
        "   * A separate base regressor (e.g., Decision Tree Regressor) is trained on each bootstrap sample independently.\n",
        "\n",
        "3. **Making Predictions:**\n",
        "\n",
        "   * For a new input, each trained regressor makes a prediction.\n",
        "   * The final output of the Bagging Regressor is obtained by **averaging the predictions** of all base regressors.\n",
        "\n",
        "4. **Reducing Variance:**\n",
        "\n",
        "   * Individual regressors may overfit their respective samples, but averaging their predictions reduces overall variance and produces more stable results.\n",
        "\n",
        "**Advantages:**\n",
        "\n",
        "* Reduces overfitting and variance.\n",
        "* Improves prediction accuracy and robustness.\n",
        "* Can handle high-variance base models effectively.\n",
        "\n",
        "**Examples:**\n",
        "\n",
        "* `BaggingRegressor` in scikit-learn.\n",
        "* Random Forest Regressor is a special case of bagging with added feature randomness.\n",
        "\n",
        "**Conclusion:**\n",
        "A Bagging Regressor works by training multiple regressors on different bootstrap samples and averaging their predictions. This ensemble approach produces more reliable, accurate, and stable regression results compared to a single regressor.\n",
        "\n",
        "---\n"
      ]
    },
    {
      "cell_type": "markdown",
      "metadata": {
        "id": "28TbDLq6T_QX"
      },
      "source": [
        "**9. What is the main advantage of ensemble techniques?**  \n",
        "\n",
        "**Answer:**  \n",
        "\n",
        "**Advantage of Ensemble Techniques**  \n",
        "\n",
        "Ensemble techniques combine predictions from **multiple models** to produce a single, improved prediction. The main advantage of ensemble methods is that they **enhance the overall performance and robustness** of a model compared to individual models.  \n",
        "\n",
        "**Key Points:**  \n",
        "\n",
        "1. **Improved Accuracy:**  \n",
        "   - Combining multiple models reduces errors and increases prediction accuracy.  \n",
        "\n",
        "2. **Reduced Overfitting:**  \n",
        "   - Ensemble methods like Bagging and Random Forest reduce variance and prevent overfitting of high-variance models.  \n",
        "\n",
        "3. **Better Generalization:**  \n",
        "   - Ensembles generalize better on unseen data by leveraging the strengths of different models.  \n",
        "\n",
        "4. **Robustness to Noise:**  \n",
        "   - Aggregating multiple models reduces the impact of noisy data or outliers.  \n",
        "\n",
        "**Examples of Ensemble Techniques:**  \n",
        "* Bagging (Bootstrap Aggregating)  \n",
        "* Boosting (e.g., AdaBoost, Gradient Boosting)  \n",
        "* Random Forest  \n",
        "* Stacking  \n",
        "\n",
        "**Conclusion:**  \n",
        "The main advantage of ensemble techniques is that they **produce more accurate, stable, and generalizable predictions** than individual models by combining the strengths of multiple learners.  \n",
        "\n",
        "---"
      ]
    },
    {
      "cell_type": "markdown",
      "metadata": {
        "id": "q2fRqojgUN7I"
      },
      "source": [
        "**10. What is the main challenge of ensemble methods?**\n",
        "\n",
        "**Answer:**\n",
        "\n",
        "**Challenges of Ensemble Methods**\n",
        "\n",
        "While ensemble methods improve accuracy and robustness, they also come with certain challenges. The **main challenge** is **increased complexity and computational cost**.\n",
        "\n",
        "**Key Points:**\n",
        "\n",
        "1. **High Computational Cost:**\n",
        "\n",
        "   * Training multiple models simultaneously requires more **memory, processing power, and time** compared to a single model.\n",
        "\n",
        "2. **Reduced Interpretability:**\n",
        "\n",
        "   * Ensemble models like Random Forest or Gradient Boosting are **harder to interpret** because predictions are based on many combined models.\n",
        "\n",
        "3. **Implementation Complexity:**\n",
        "\n",
        "   * Designing and tuning ensemble methods (choosing base models, number of estimators, hyperparameters) is more **complex** than using a single model.\n",
        "\n",
        "4. **Diminishing Returns:**\n",
        "\n",
        "   * Adding more models does not always significantly improve performance after a certain point.\n",
        "\n",
        "**Examples:**\n",
        "\n",
        "* Random Forest may require hundreds of trees, increasing computation.\n",
        "* Gradient Boosting can be slow to train on large datasets.\n",
        "\n",
        "**Conclusion:**\n",
        "The main challenge of ensemble methods is that they **increase computational complexity and reduce interpretability**, making them more resource-intensive and harder to understand compared to single models.\n",
        "\n",
        "---\n"
      ]
    },
    {
      "cell_type": "markdown",
      "metadata": {
        "id": "2_o1UMdaUSbf"
      },
      "source": [
        "**11. Explain the key idea behind ensemble techniques**\n",
        "\n",
        "**Answer:**\n",
        "\n",
        "**Key Idea of Ensemble Techniques**\n",
        "\n",
        "Ensemble techniques are based on the principle that **combining multiple models** can produce better predictions than a single model. The key idea is to **leverage the strengths of different models** and reduce their weaknesses, leading to improved accuracy, stability, and generalization.\n",
        "\n",
        "**Working Principle:**\n",
        "\n",
        "1. **Diversity Among Models:**\n",
        "\n",
        "   * Multiple models (base learners) are trained using different algorithms, subsets of data, or random variations to ensure diversity.\n",
        "\n",
        "2. **Aggregation of Predictions:**\n",
        "\n",
        "   * The predictions of all models are combined to make the final prediction:\n",
        "\n",
        "     * **Classification:** Majority voting or weighted voting.\n",
        "     * **Regression:** Averaging the predictions.\n",
        "\n",
        "3. **Error Reduction:**\n",
        "\n",
        "   * By combining multiple models, ensemble techniques reduce **bias**, **variance**, or both, depending on the method used (e.g., Bagging reduces variance, Boosting reduces bias).\n",
        "\n",
        "**Advantages of the Key Idea:**\n",
        "\n",
        "* Improves prediction accuracy.\n",
        "* Reduces overfitting and variance.\n",
        "* Produces more robust and generalizable models.\n",
        "\n",
        "**Examples:**\n",
        "\n",
        "* Bagging (Random Forest)\n",
        "* Boosting (AdaBoost, Gradient Boosting)\n",
        "* Stacking\n",
        "\n",
        "**Conclusion:**\n",
        "The key idea behind ensemble techniques is that **“multiple weak or base models combined intelligently can outperform a single strong model”**, resulting in more accurate, stable, and reliable predictions.\n",
        "\n",
        "---\n"
      ]
    },
    {
      "cell_type": "markdown",
      "metadata": {
        "id": "MkGaCpV7Uah5"
      },
      "source": [
        "**12. What is a Random Forest Classifier?**\n",
        "\n",
        "**Answer:**\n",
        "\n",
        "**Random Forest Classifier**\n",
        "\n",
        "A Random Forest Classifier is an **ensemble learning method** used for classification tasks. It combines the predictions of multiple **decision trees** to produce a single, more accurate and stable prediction. Random Forest is based on **bagging (bootstrap aggregating)** with an added feature of **random feature selection** to increase diversity among trees.\n",
        "\n",
        "**Working Principle:**\n",
        "\n",
        "1. **Bootstrap Sampling:**\n",
        "\n",
        "   * Multiple decision trees are trained on different **random subsets** of the training data generated by sampling **with replacement**.\n",
        "\n",
        "2. **Random Feature Selection:**\n",
        "\n",
        "   * At each split in a tree, only a **random subset of features** is considered for splitting, ensuring that trees are diverse and less correlated.\n",
        "\n",
        "3. **Prediction Aggregation:**\n",
        "\n",
        "   * For **classification**, each tree predicts a class, and the final output is decided by **majority voting** among all trees.\n",
        "   * For **regression**, predictions are **averaged** across trees.\n",
        "\n",
        "**Advantages:**\n",
        "\n",
        "* Reduces overfitting compared to a single decision tree.\n",
        "* Handles large datasets and high-dimensional features well.\n",
        "* Provides feature importance scores.\n",
        "* Robust to noise and outliers.\n",
        "\n",
        "**Examples:**\n",
        "\n",
        "* `RandomForestClassifier` in scikit-learn.\n",
        "* Used in applications like spam detection, medical diagnosis, and image classification.\n",
        "\n",
        "**Conclusion:**\n",
        "A Random Forest Classifier works by combining multiple decision trees trained on random subsets of data and features, using majority voting to make predictions. This ensemble approach improves accuracy, robustness, and generalization compared to individual decision trees.\n",
        "\n",
        "---\n"
      ]
    },
    {
      "cell_type": "markdown",
      "metadata": {
        "id": "MW8ajqhrUovQ"
      },
      "source": [
        "**13. What are the main types of ensemble techniques?**\n",
        "\n",
        "**Answer:**\n",
        "\n",
        "**Main Types of Ensemble Techniques**\n",
        "\n",
        "Ensemble techniques combine multiple models to improve prediction accuracy, stability, and generalization. They are broadly classified into three main types based on how the base models are built and combined:\n",
        "\n",
        "1. **Bagging (Bootstrap Aggregating):**\n",
        "\n",
        "   * Multiple base models are trained independently on **different bootstrap samples** of the dataset.\n",
        "   * Predictions are combined using **majority voting** (classification) or **averaging** (regression).\n",
        "   * Reduces **variance** and overfitting.\n",
        "   * **Example:** Random Forest.\n",
        "\n",
        "2. **Boosting:**\n",
        "\n",
        "   * Models are trained **sequentially**, with each new model focusing on the **errors of previous models**.\n",
        "   * Reduces **bias** and improves prediction accuracy.\n",
        "   * **Example:** AdaBoost, Gradient Boosting, XGBoost.\n",
        "\n",
        "3. **Stacking (Stacked Generalization):**\n",
        "\n",
        "   * Combines predictions from **multiple different types of models** using a **meta-model**.\n",
        "   * Base models are trained first, and a higher-level model learns to combine their outputs optimally.\n",
        "   * Can reduce both bias and variance if properly designed.\n",
        "   * **Example:** Using Logistic Regression as a meta-model over Decision Trees and SVMs.\n",
        "\n",
        "**Conclusion:**\n",
        "The main types of ensemble techniques are **Bagging, Boosting, and Stacking**, each with a unique approach to combining multiple models to improve accuracy, stability, and generalization.\n",
        "\n",
        "---\n"
      ]
    },
    {
      "cell_type": "markdown",
      "metadata": {
        "id": "O9rVRo-XUp6o"
      },
      "source": [
        "**14. What is Ensemble Learning in Machine Learning?**\n",
        "\n",
        "**Answer:**\n",
        "\n",
        "**Ensemble Learning**\n",
        "\n",
        "Ensemble learning is a technique in machine learning where **multiple models (called base learners) are combined** to solve a problem and improve performance. The main idea is that a group of models working together can produce **more accurate, stable, and robust predictions** than any single model.\n",
        "\n",
        "**Working Principle:**\n",
        "\n",
        "1. **Diversity Among Models:**\n",
        "\n",
        "   * Different models are trained using different algorithms, data subsets, or features to ensure diversity.\n",
        "\n",
        "2. **Combining Predictions:**\n",
        "\n",
        "   * The outputs of individual models are combined to produce a final prediction:\n",
        "\n",
        "     * **Classification:** Majority voting or weighted voting.\n",
        "     * **Regression:** Averaging predictions.\n",
        "\n",
        "3. **Error Reduction:**\n",
        "\n",
        "   * Combining models reduces **bias**, **variance**, or both, leading to better generalization on unseen data.\n",
        "\n",
        "**Advantages:**\n",
        "\n",
        "* Improves prediction accuracy.\n",
        "* Reduces overfitting and variance.\n",
        "* Produces more robust and reliable models.\n",
        "\n",
        "**Examples:**\n",
        "\n",
        "* Bagging (Random Forest)\n",
        "* Boosting (AdaBoost, Gradient Boosting)\n",
        "* Stacking\n",
        "\n",
        "**Conclusion:**\n",
        "Ensemble learning is a machine learning approach that **combines multiple models** to achieve better predictive performance than individual models, leveraging their strengths and compensating for weaknesses.\n",
        "\n",
        "---\n"
      ]
    },
    {
      "cell_type": "markdown",
      "metadata": {
        "id": "5ljtc6y2Uzfz"
      },
      "source": [
        "**15. When should we avoid using ensemble methods?**\n",
        "\n",
        "**Answer:**\n",
        "\n",
        "**Avoiding Ensemble Methods**\n",
        "\n",
        "While ensemble methods improve accuracy and robustness, they are not always the best choice. They should be avoided in certain situations due to complexity, resource requirements, or interpretability concerns.\n",
        "\n",
        "**Situations to Avoid Ensemble Methods:**\n",
        "\n",
        "1. **Simple Problems:**\n",
        "\n",
        "   * If the dataset is small or the problem is simple, a **single model** may perform sufficiently well.\n",
        "   * Using an ensemble may **unnecessarily increase complexity** without significant gains.\n",
        "\n",
        "2. **Need for Interpretability:**\n",
        "\n",
        "   * Ensemble methods like Random Forest, Gradient Boosting, or Stacking are **harder to interpret**.\n",
        "   * If model interpretability is crucial (e.g., in medical or financial decisions), single models like Logistic Regression or Decision Trees may be preferred.\n",
        "\n",
        "3. **Limited Computational Resources:**\n",
        "\n",
        "   * Ensembles require **more memory and processing power** due to multiple models being trained.\n",
        "   * On devices with limited resources or for real-time applications, they may be inefficient.\n",
        "\n",
        "4. **Diminishing Returns:**\n",
        "\n",
        "   * After a certain number of base models, adding more may not significantly improve performance.\n",
        "   * Training large ensembles may waste time and resources with minimal benefit.\n",
        "\n",
        "**Conclusion:**\n",
        "Ensemble methods should be avoided when the problem is simple, interpretability is important, computational resources are limited, or when additional models do not substantially improve performance. In such cases, a **single well-tuned model** may be more practical.\n",
        "\n",
        "---\n"
      ]
    },
    {
      "cell_type": "markdown",
      "metadata": {
        "id": "MdNxaFR2U9ET"
      },
      "source": [
        "**16. How does Bagging help in reducing overfitting?**\n",
        "\n",
        "**Answer:**\n",
        "\n",
        "**Bagging and Overfitting**\n",
        "\n",
        "Bagging (Bootstrap Aggregating) is an ensemble technique that helps **reduce overfitting** by combining predictions from multiple models trained on different subsets of the data. Overfitting occurs when a model learns noise or fluctuations in the training data, leading to poor generalization on unseen data.\n",
        "\n",
        "**Working Principle:**\n",
        "\n",
        "1. **Bootstrap Sampling:**\n",
        "\n",
        "   * Multiple **bootstrap samples** are generated from the training dataset by sampling **with replacement**.\n",
        "   * Each sample is slightly different, so individual models see varied data.\n",
        "\n",
        "2. **Training Base Models Independently:**\n",
        "\n",
        "   * A separate model (commonly a decision tree) is trained on each bootstrap sample.\n",
        "   * Trees trained on different subsets capture different patterns and errors.\n",
        "\n",
        "3. **Aggregating Predictions:**\n",
        "\n",
        "   * Predictions from all models are combined:\n",
        "\n",
        "     * **Classification:** Majority voting\n",
        "     * **Regression:** Averaging\n",
        "   * Aggregation **smooths out errors** of individual models and prevents any single model from dominating predictions.\n",
        "\n",
        "**Effect on Overfitting:**\n",
        "\n",
        "* High-variance models like decision trees tend to overfit individual samples.\n",
        "* Bagging reduces the overall variance by **averaging multiple models**, making predictions more stable and generalizable.\n",
        "* Even though individual trees may overfit, the ensemble as a whole is less likely to overfit.\n",
        "\n",
        "**Example:**\n",
        "\n",
        "* Random Forest is a bagging-based method where many decision trees are trained on bootstrapped samples with random feature selection, significantly reducing overfitting compared to a single decision tree.\n",
        "\n",
        "**Conclusion:**\n",
        "Bagging reduces overfitting by training multiple models on varied data samples and aggregating their predictions, thereby lowering variance and improving generalization on unseen data.\n",
        "\n",
        "---\n"
      ]
    },
    {
      "cell_type": "markdown",
      "metadata": {
        "id": "bWED6saKVIpN"
      },
      "source": [
        "**17. Why is Random Forest better than a single Decision Tree?**\n",
        "\n",
        "**Answer:**\n",
        "\n",
        "**Random Forest vs. Single Decision Tree**\n",
        "\n",
        "Random Forest is an ensemble learning method based on **bagging**, which combines multiple decision trees to produce more accurate and stable predictions. It is generally better than a single decision tree for several reasons:\n",
        "\n",
        "**Key Advantages:**\n",
        "\n",
        "1. **Reduces Overfitting:**\n",
        "\n",
        "   * Single decision trees often **overfit** the training data, especially when they are deep.\n",
        "   * Random Forest reduces overfitting by **aggregating predictions** from multiple trees trained on different bootstrap samples.\n",
        "\n",
        "2. **Higher Accuracy:**\n",
        "\n",
        "   * Combining multiple trees improves overall prediction accuracy.\n",
        "   * Errors from individual trees tend to cancel out when aggregated.\n",
        "\n",
        "3. **Handles Variance Better:**\n",
        "\n",
        "   * Decision trees are high-variance models.\n",
        "   * Random Forest reduces variance by averaging predictions across many trees, leading to more stable and reliable results.\n",
        "\n",
        "4. **Feature Randomness Increases Diversity:**\n",
        "\n",
        "   * Random Forest considers a **random subset of features** at each split, making trees less correlated.\n",
        "   * This improves generalization and prevents any single dominant feature from controlling predictions.\n",
        "\n",
        "5. **Robustness to Noise and Outliers:**\n",
        "\n",
        "   * Aggregation across multiple trees reduces the impact of noisy data or outliers.\n",
        "\n",
        "6. **Feature Importance Measurement:**\n",
        "\n",
        "   * Random Forest provides estimates of **feature importance**, which is not available from a single tree reliably.\n",
        "\n",
        "**Example:**\n",
        "\n",
        "* In scikit-learn, `DecisionTreeClassifier` may overfit on complex datasets, whereas `RandomForestClassifier` gives higher accuracy and better generalization.\n",
        "\n",
        "**Conclusion:**\n",
        "Random Forest is better than a single decision tree because it **reduces overfitting, lowers variance, increases accuracy, and is more robust**, making it a more reliable and generalizable model for both classification and regression tasks.\n",
        "\n",
        "---\n"
      ]
    },
    {
      "cell_type": "markdown",
      "metadata": {
        "id": "eDmwYg5XVVgF"
      },
      "source": [
        "**18. What is the role of bootstrap sampling in Bagging?**\n",
        "\n",
        "**Answer:**\n",
        "\n",
        "**Bootstrap Sampling in Bagging**\n",
        "\n",
        "Bootstrap sampling is a key step in Bagging (Bootstrap Aggregating) that helps create **diversity among base models** and improves the ensemble’s performance. It involves generating multiple **random subsets of the training data** by sampling **with replacement**.\n",
        "\n",
        "**Working Principle:**\n",
        "\n",
        "1. **Creating Bootstrap Samples:**\n",
        "\n",
        "   * From the original training dataset of size (N), multiple subsets of size (N) are created by random sampling **with replacement**.\n",
        "   * Some data points may appear multiple times in a sample, while others may be left out.\n",
        "\n",
        "2. **Training Base Models:**\n",
        "\n",
        "   * Each bootstrap sample is used to train a separate base model (e.g., a decision tree).\n",
        "   * Since the samples differ, each model learns slightly different patterns and errors.\n",
        "\n",
        "3. **Aggregating Predictions:**\n",
        "\n",
        "   * Predictions from all models are combined:\n",
        "\n",
        "     * **Classification:** Majority voting\n",
        "     * **Regression:** Averaging\n",
        "\n",
        "**Role of Bootstrap Sampling:**\n",
        "\n",
        "* Introduces **randomness and diversity** among base models, making the ensemble stronger.\n",
        "* Reduces **variance** and helps prevent overfitting.\n",
        "* Allows **Out-of-Bag (OOB) estimation** by leaving out ~1/3 of data in each sample, providing an unbiased performance estimate.\n",
        "\n",
        "**Example:**\n",
        "\n",
        "* Random Forest uses bootstrap sampling to train each decision tree on a different subset of data.\n",
        "\n",
        "**Conclusion:**\n",
        "Bootstrap sampling in Bagging is essential for generating diverse training sets, which enables the ensemble to **reduce variance, avoid overfitting, and produce more accurate and stable predictions**.\n",
        "\n",
        "---\n"
      ]
    },
    {
      "cell_type": "markdown",
      "metadata": {
        "id": "NUw9KFamVk-D"
      },
      "source": [
        "**19. What are some real-world applications of ensemble techniques?**\n",
        "\n",
        "**Answer:**\n",
        "\n",
        "**Real-World Applications of Ensemble Techniques**\n",
        "\n",
        "Ensemble techniques are widely used in machine learning because they **improve accuracy, robustness, and generalization**. They are applied in various domains where high predictive performance is critical.\n",
        "\n",
        "**Key Applications:**\n",
        "\n",
        "1. **Finance and Banking:**\n",
        "\n",
        "   * **Credit scoring** to assess loan eligibility.\n",
        "   * **Fraud detection** to identify suspicious transactions.\n",
        "   * **Stock price prediction** using regression ensembles.\n",
        "\n",
        "2. **Healthcare and Medical Diagnosis:**\n",
        "\n",
        "   * Disease prediction and diagnosis from patient data.\n",
        "   * Medical image analysis (e.g., detecting tumors in MRI or X-ray scans).\n",
        "\n",
        "3. **E-commerce and Recommendation Systems:**\n",
        "\n",
        "   * Product recommendation using ensemble models to combine different algorithms.\n",
        "   * Customer segmentation and churn prediction.\n",
        "\n",
        "4. **Natural Language Processing (NLP):**\n",
        "\n",
        "   * Sentiment analysis using multiple classifiers.\n",
        "   * Spam detection in emails.\n",
        "\n",
        "5. **Computer Vision:**\n",
        "\n",
        "   * Object detection and image classification (e.g., combining CNN models).\n",
        "   * Facial recognition systems.\n",
        "\n",
        "6. **Weather and Climate Forecasting:**\n",
        "\n",
        "   * Predicting rainfall, temperature, or extreme weather events by combining multiple models.\n",
        "\n",
        "7. **Cybersecurity:**\n",
        "\n",
        "   * Intrusion detection systems using ensemble classifiers.\n",
        "   * Malware detection in software systems.\n",
        "\n",
        "**Conclusion:**\n",
        "Ensemble techniques are applied across **finance, healthcare, e-commerce, NLP, computer vision, and cybersecurity** to improve predictive accuracy, robustness, and reliability, making them highly effective for real-world machine learning problems.\n",
        "\n",
        "---\n"
      ]
    },
    {
      "cell_type": "markdown",
      "metadata": {
        "id": "EcsDA9HXVm2t"
      },
      "source": [
        "**20. What is the difference between Bagging and Boosting?**\n",
        "\n",
        "**Answer:**\n",
        "\n",
        "**Difference Between Bagging and Boosting**\n",
        "\n",
        "Bagging and Boosting are both ensemble techniques, but they differ in **how the base models are trained and combined**.\n",
        "\n",
        "**Bagging:**\n",
        "\n",
        "* Base models are trained **independently** on different **bootstrap samples** of the training data.\n",
        "* Predictions are combined by **majority voting** (for classification) or **averaging** (for regression).\n",
        "* Primarily reduces **variance** and helps prevent overfitting.\n",
        "* Less sensitive to noisy data.\n",
        "* Example: Random Forest.\n",
        "\n",
        "**Boosting:**\n",
        "\n",
        "* Base models are trained **sequentially**, with each new model focusing on the **errors of the previous models**.\n",
        "* Predictions are combined using **weighted voting or weighted sum**, giving more importance to accurate models.\n",
        "* Primarily reduces **bias** and improves accuracy.\n",
        "* More sensitive to noisy data because it emphasizes hard-to-predict points.\n",
        "* Examples: AdaBoost, Gradient Boosting, XGBoost.\n",
        "\n",
        "**Conclusion:**\n",
        "Bagging builds multiple independent models to **reduce variance**, whereas Boosting builds sequential models that **focus on correcting errors to reduce bias**. Both methods improve prediction accuracy but in different ways.\n",
        "\n",
        "---\n",
        "---"
      ]
    },
    {
      "cell_type": "markdown",
      "metadata": {
        "id": "kkXMSGKxV0UG"
      },
      "source": [
        "##Practical"
      ]
    },
    {
      "cell_type": "markdown",
      "metadata": {
        "id": "mY1-LUWmV6-L"
      },
      "source": [
        "21. Train a Bagging Classifier using Decision Trees on a sample dataset and print model accuracy"
      ]
    },
    {
      "cell_type": "code",
      "execution_count": 4,
      "metadata": {
        "colab": {
          "base_uri": "https://localhost:8080/"
        },
        "id": "sVygU7jwWXEo",
        "outputId": "04cc4149-c19d-48c8-d0bd-0f24fdf919cd"
      },
      "outputs": [
        {
          "output_type": "stream",
          "name": "stdout",
          "text": [
            "Accuracy: 1.0\n"
          ]
        }
      ],
      "source": [
        "from sklearn.datasets import load_iris\n",
        "from sklearn.model_selection import train_test_split\n",
        "from sklearn.ensemble import BaggingClassifier\n",
        "from sklearn.tree import DecisionTreeClassifier\n",
        "from sklearn.metrics import accuracy_score\n",
        "\n",
        "data = load_iris()\n",
        "X = data.data\n",
        "y = data.target\n",
        "\n",
        "X_train, X_test, y_train, y_test = train_test_split(X, y, test_size=0.3, random_state=42)\n",
        "\n",
        "model = BaggingClassifier(estimator=DecisionTreeClassifier(), n_estimators=50, random_state=42)\n",
        "model.fit(X_train, y_train)\n",
        "\n",
        "y_pred = model.predict(X_test)\n",
        "accuracy = accuracy_score(y_test, y_pred)\n",
        "print(\"Accuracy:\", accuracy)\n"
      ]
    },
    {
      "cell_type": "markdown",
      "metadata": {
        "id": "V3uXFRwdWa1b"
      },
      "source": [
        "22. Train a Bagging Regressor using Decision Trees and evaluate using Mean Squared Error (MSE)"
      ]
    },
    {
      "cell_type": "code",
      "execution_count": 5,
      "metadata": {
        "colab": {
          "base_uri": "https://localhost:8080/"
        },
        "id": "L_UkRklYWYjG",
        "outputId": "00f1c997-86b8-4356-e04c-95ebb799ae54"
      },
      "outputs": [
        {
          "output_type": "stream",
          "name": "stdout",
          "text": [
            "Mean Squared Error: 0.25787382250585034\n"
          ]
        }
      ],
      "source": [
        "from sklearn.datasets import fetch_california_housing\n",
        "from sklearn.model_selection import train_test_split\n",
        "from sklearn.ensemble import BaggingRegressor\n",
        "from sklearn.tree import DecisionTreeRegressor\n",
        "from sklearn.metrics import mean_squared_error\n",
        "\n",
        "housing = fetch_california_housing()\n",
        "X = housing.data\n",
        "y = housing.target\n",
        "\n",
        "X_train, X_test, y_train, y_test = train_test_split(X, y, test_size=0.3, random_state=42)\n",
        "\n",
        "model = BaggingRegressor(estimator=DecisionTreeRegressor(), n_estimators=50, random_state=42)\n",
        "model.fit(X_train, y_train)\n",
        "\n",
        "y_pred = model.predict(X_test)\n",
        "mse = mean_squared_error(y_test, y_pred)\n",
        "print(\"Mean Squared Error:\", mse)\n"
      ]
    },
    {
      "cell_type": "markdown",
      "metadata": {
        "id": "JavBsPIUXD2m"
      },
      "source": [
        "23. Train a Random Forest Classifier on the Breast Cancer dataset and print feature importance scores."
      ]
    },
    {
      "cell_type": "code",
      "execution_count": 6,
      "metadata": {
        "colab": {
          "base_uri": "https://localhost:8080/"
        },
        "id": "ZIy61AgoWzUC",
        "outputId": "0653c844-0f20-4ed0-b7c3-6c04cf2d9db8"
      },
      "outputs": [
        {
          "output_type": "stream",
          "name": "stdout",
          "text": [
            "mean radius: 0.0323\n",
            "mean texture: 0.0111\n",
            "mean perimeter: 0.0601\n",
            "mean area: 0.0538\n",
            "mean smoothness: 0.0062\n",
            "mean compactness: 0.0092\n",
            "mean concavity: 0.0806\n",
            "mean concave points: 0.1419\n",
            "mean symmetry: 0.0033\n",
            "mean fractal dimension: 0.0031\n",
            "radius error: 0.0164\n",
            "texture error: 0.0032\n",
            "perimeter error: 0.0118\n",
            "area error: 0.0295\n",
            "smoothness error: 0.0059\n",
            "compactness error: 0.0046\n",
            "concavity error: 0.0058\n",
            "concave points error: 0.0034\n",
            "symmetry error: 0.0040\n",
            "fractal dimension error: 0.0071\n",
            "worst radius: 0.0780\n",
            "worst texture: 0.0188\n",
            "worst perimeter: 0.0743\n",
            "worst area: 0.1182\n",
            "worst smoothness: 0.0118\n",
            "worst compactness: 0.0175\n",
            "worst concavity: 0.0411\n",
            "worst concave points: 0.1271\n",
            "worst symmetry: 0.0129\n",
            "worst fractal dimension: 0.0069\n"
          ]
        }
      ],
      "source": [
        "from sklearn.datasets import load_breast_cancer\n",
        "from sklearn.model_selection import train_test_split\n",
        "from sklearn.ensemble import RandomForestClassifier\n",
        "\n",
        "data = load_breast_cancer()\n",
        "X = data.data\n",
        "y = data.target\n",
        "feature_names = data.feature_names\n",
        "\n",
        "X_train, X_test, y_train, y_test = train_test_split(X, y, test_size=0.3, random_state=42)\n",
        "\n",
        "model = RandomForestClassifier(n_estimators=100, random_state=42)\n",
        "model.fit(X_train, y_train)\n",
        "\n",
        "importance_scores = model.feature_importances_\n",
        "\n",
        "for name, score in zip(feature_names, importance_scores):\n",
        "    print(f\"{name}: {score:.4f}\")\n"
      ]
    },
    {
      "cell_type": "markdown",
      "metadata": {
        "id": "qE2V7vuiXWwb"
      },
      "source": [
        "24. Train a Random Forest Regressor and compare its performance with a single Decision Tree."
      ]
    },
    {
      "cell_type": "code",
      "execution_count": 7,
      "metadata": {
        "colab": {
          "base_uri": "https://localhost:8080/"
        },
        "id": "42wY6bx-XL2p",
        "outputId": "e393b0ce-220c-41d8-a40d-045bbd17b42c"
      },
      "outputs": [
        {
          "output_type": "stream",
          "name": "stdout",
          "text": [
            "Decision Tree MSE: 0.5280096503174904\n",
            "Random Forest MSE: 0.25650512920799395\n"
          ]
        }
      ],
      "source": [
        "from sklearn.datasets import fetch_california_housing\n",
        "from sklearn.model_selection import train_test_split\n",
        "from sklearn.ensemble import RandomForestRegressor\n",
        "from sklearn.tree import DecisionTreeRegressor\n",
        "from sklearn.metrics import mean_squared_error\n",
        "\n",
        "housing = fetch_california_housing()\n",
        "X = housing.data\n",
        "y = housing.target\n",
        "\n",
        "X_train, X_test, y_train, y_test = train_test_split(X, y, test_size=0.3, random_state=42)\n",
        "\n",
        "# Single Decision Tree Regressor\n",
        "dt_model = DecisionTreeRegressor(random_state=42)\n",
        "dt_model.fit(X_train, y_train)\n",
        "y_pred_dt = dt_model.predict(X_test)\n",
        "mse_dt = mean_squared_error(y_test, y_pred_dt)\n",
        "\n",
        "# Random Forest Regressor\n",
        "rf_model = RandomForestRegressor(n_estimators=100, random_state=42)\n",
        "rf_model.fit(X_train, y_train)\n",
        "y_pred_rf = rf_model.predict(X_test)\n",
        "mse_rf = mean_squared_error(y_test, y_pred_rf)\n",
        "\n",
        "print(\"Decision Tree MSE:\", mse_dt)\n",
        "print(\"Random Forest MSE:\", mse_rf)\n"
      ]
    },
    {
      "cell_type": "markdown",
      "metadata": {
        "id": "c0SdE--0X1oP"
      },
      "source": [
        "25. Compute the Out-of-Bag (OOB) Score for a Random Forest Classifier."
      ]
    },
    {
      "cell_type": "code",
      "execution_count": 8,
      "metadata": {
        "colab": {
          "base_uri": "https://localhost:8080/"
        },
        "id": "3NlAUbXrXkbv",
        "outputId": "65ebd506-f7bd-47ff-aed3-d317c780096b"
      },
      "outputs": [
        {
          "output_type": "stream",
          "name": "stdout",
          "text": [
            "Out-of-Bag (OOB) Score: 0.9547738693467337\n"
          ]
        }
      ],
      "source": [
        "from sklearn.datasets import load_breast_cancer\n",
        "from sklearn.model_selection import train_test_split\n",
        "from sklearn.ensemble import RandomForestClassifier\n",
        "\n",
        "data = load_breast_cancer()\n",
        "X = data.data\n",
        "y = data.target\n",
        "\n",
        "X_train, X_test, y_train, y_test = train_test_split(X, y, test_size=0.3, random_state=42)\n",
        "\n",
        "model = RandomForestClassifier(n_estimators=100, oob_score=True, random_state=42)\n",
        "model.fit(X_train, y_train)\n",
        "\n",
        "print(\"Out-of-Bag (OOB) Score:\", model.oob_score_)\n"
      ]
    },
    {
      "cell_type": "markdown",
      "metadata": {
        "id": "-ITQq5GUYBhv"
      },
      "source": [
        "26. Train a Bagging Classifier using SVM as a base estimator and print accuracy."
      ]
    },
    {
      "cell_type": "code",
      "execution_count": 9,
      "metadata": {
        "colab": {
          "base_uri": "https://localhost:8080/"
        },
        "id": "DAUFkfkSX9fP",
        "outputId": "ae6b581d-c0cc-4596-e08d-afffe9fe88c5"
      },
      "outputs": [
        {
          "output_type": "stream",
          "name": "stdout",
          "text": [
            "Accuracy: 1.0\n"
          ]
        }
      ],
      "source": [
        "from sklearn.datasets import load_iris\n",
        "from sklearn.model_selection import train_test_split\n",
        "from sklearn.ensemble import BaggingClassifier\n",
        "from sklearn.svm import SVC\n",
        "from sklearn.metrics import accuracy_score\n",
        "\n",
        "data = load_iris()\n",
        "X = data.data\n",
        "y = data.target\n",
        "\n",
        "X_train, X_test, y_train, y_test = train_test_split(X, y, test_size=0.3, random_state=42)\n",
        "\n",
        "model = BaggingClassifier(estimator=SVC(), n_estimators=50, random_state=42)\n",
        "model.fit(X_train, y_train)\n",
        "\n",
        "y_pred = model.predict(X_test)\n",
        "accuracy = accuracy_score(y_test, y_pred)\n",
        "print(\"Accuracy:\", accuracy)\n"
      ]
    },
    {
      "cell_type": "markdown",
      "metadata": {
        "id": "C1OQdcVqYG4S"
      },
      "source": [
        "27. Train a Random Forest Classifier with different numbers of trees and compare accuracy."
      ]
    },
    {
      "cell_type": "code",
      "execution_count": 10,
      "metadata": {
        "colab": {
          "base_uri": "https://localhost:8080/"
        },
        "id": "fiPF5gyxYFTj",
        "outputId": "a2a37fd8-34e5-4a7e-8d90-35bde039c9a7"
      },
      "outputs": [
        {
          "output_type": "stream",
          "name": "stdout",
          "text": [
            "Number of Trees: 10, Accuracy: 0.9649\n",
            "Number of Trees: 50, Accuracy: 0.9708\n",
            "Number of Trees: 100, Accuracy: 0.9708\n",
            "Number of Trees: 200, Accuracy: 0.9708\n"
          ]
        }
      ],
      "source": [
        "from sklearn.datasets import load_breast_cancer\n",
        "from sklearn.model_selection import train_test_split\n",
        "from sklearn.ensemble import RandomForestClassifier\n",
        "from sklearn.metrics import accuracy_score\n",
        "\n",
        "data = load_breast_cancer()\n",
        "X = data.data\n",
        "y = data.target\n",
        "\n",
        "X_train, X_test, y_train, y_test = train_test_split(X, y, test_size=0.3, random_state=42)\n",
        "\n",
        "n_trees_list = [10, 50, 100, 200]\n",
        "for n_trees in n_trees_list:\n",
        "    model = RandomForestClassifier(n_estimators=n_trees, random_state=42)\n",
        "    model.fit(X_train, y_train)\n",
        "    y_pred = model.predict(X_test)\n",
        "    accuracy = accuracy_score(y_test, y_pred)\n",
        "    print(f\"Number of Trees: {n_trees}, Accuracy: {accuracy:.4f}\")\n"
      ]
    },
    {
      "cell_type": "markdown",
      "metadata": {
        "id": "JQHL8eBvYWWQ"
      },
      "source": [
        "28. Train a Bagging Classifier using Logistic Regression as a base estimator and print AUC score."
      ]
    },
    {
      "cell_type": "code",
      "execution_count": 11,
      "metadata": {
        "colab": {
          "base_uri": "https://localhost:8080/"
        },
        "id": "4dH7_JYIYRxb",
        "outputId": "b912782a-5df0-4893-c033-b2d23730bf3a"
      },
      "outputs": [
        {
          "output_type": "stream",
          "name": "stdout",
          "text": [
            "AUC Score: 0.998236331569665\n"
          ]
        }
      ],
      "source": [
        "from sklearn.datasets import load_breast_cancer\n",
        "from sklearn.model_selection import train_test_split\n",
        "from sklearn.ensemble import BaggingClassifier\n",
        "from sklearn.linear_model import LogisticRegression\n",
        "from sklearn.preprocessing import StandardScaler\n",
        "from sklearn.metrics import roc_auc_score\n",
        "\n",
        "data = load_breast_cancer()\n",
        "X = data.data\n",
        "y = data.target\n",
        "\n",
        "scaler = StandardScaler()\n",
        "X = scaler.fit_transform(X)\n",
        "\n",
        "X_train, X_test, y_train, y_test = train_test_split(X, y, test_size=0.3, random_state=42)\n",
        "\n",
        "model = BaggingClassifier(estimator=LogisticRegression(max_iter=2000), n_estimators=50, random_state=42)\n",
        "model.fit(X_train, y_train)\n",
        "\n",
        "y_pred_proba = model.predict_proba(X_test)[:, 1]\n",
        "auc = roc_auc_score(y_test, y_pred_proba)\n",
        "print(\"AUC Score:\", auc)\n"
      ]
    },
    {
      "cell_type": "markdown",
      "metadata": {
        "id": "isLJvl0rYiQH"
      },
      "source": [
        "29. Train a Random Forest Regressor and analyze feature importance scores."
      ]
    },
    {
      "cell_type": "code",
      "execution_count": 12,
      "metadata": {
        "colab": {
          "base_uri": "https://localhost:8080/"
        },
        "id": "_T-uqx4mYdIQ",
        "outputId": "90442660-2c56-408d-a036-0bcdcd8aa5d5"
      },
      "outputs": [
        {
          "output_type": "stream",
          "name": "stdout",
          "text": [
            "MedInc: 0.5260\n",
            "HouseAge: 0.0547\n",
            "AveRooms: 0.0472\n",
            "AveBedrms: 0.0300\n",
            "Population: 0.0317\n",
            "AveOccup: 0.1382\n",
            "Latitude: 0.0861\n",
            "Longitude: 0.0861\n"
          ]
        }
      ],
      "source": [
        "from sklearn.datasets import fetch_california_housing\n",
        "from sklearn.model_selection import train_test_split\n",
        "from sklearn.ensemble import RandomForestRegressor\n",
        "\n",
        "housing = fetch_california_housing()\n",
        "X = housing.data\n",
        "y = housing.target\n",
        "feature_names = housing.feature_names\n",
        "\n",
        "X_train, X_test, y_train, y_test = train_test_split(X, y, test_size=0.3, random_state=42)\n",
        "\n",
        "model = RandomForestRegressor(n_estimators=100, random_state=42)\n",
        "model.fit(X_train, y_train)\n",
        "\n",
        "importance_scores = model.feature_importances_\n",
        "\n",
        "for name, score in zip(feature_names, importance_scores):\n",
        "    print(f\"{name}: {score:.4f}\")\n"
      ]
    },
    {
      "cell_type": "markdown",
      "metadata": {
        "id": "g-HwehvAZQ5G"
      },
      "source": [
        "30. Train an ensemble model using both Bagging and Random Forest and compare accuracy."
      ]
    },
    {
      "cell_type": "code",
      "execution_count": 13,
      "metadata": {
        "colab": {
          "base_uri": "https://localhost:8080/"
        },
        "id": "KlC--EmpZK9D",
        "outputId": "59cca370-6551-4264-de18-b45eb748a8ee"
      },
      "outputs": [
        {
          "output_type": "stream",
          "name": "stdout",
          "text": [
            "Bagging Classifier Accuracy: 0.9590643274853801\n",
            "Random Forest Accuracy: 0.9707602339181286\n"
          ]
        }
      ],
      "source": [
        "from sklearn.datasets import load_breast_cancer\n",
        "from sklearn.model_selection import train_test_split\n",
        "from sklearn.ensemble import BaggingClassifier, RandomForestClassifier\n",
        "from sklearn.tree import DecisionTreeClassifier\n",
        "from sklearn.metrics import accuracy_score\n",
        "\n",
        "data = load_breast_cancer()\n",
        "X = data.data\n",
        "y = data.target\n",
        "\n",
        "X_train, X_test, y_train, y_test = train_test_split(X, y, test_size=0.3, random_state=42)\n",
        "\n",
        "# Bagging Classifier with Decision Tree\n",
        "bagging_model = BaggingClassifier(estimator=DecisionTreeClassifier(), n_estimators=100, random_state=42)\n",
        "bagging_model.fit(X_train, y_train)\n",
        "y_pred_bagging = bagging_model.predict(X_test)\n",
        "accuracy_bagging = accuracy_score(y_test, y_pred_bagging)\n",
        "\n",
        "# Random Forest Classifier\n",
        "rf_model = RandomForestClassifier(n_estimators=100, random_state=42)\n",
        "rf_model.fit(X_train, y_train)\n",
        "y_pred_rf = rf_model.predict(X_test)\n",
        "accuracy_rf = accuracy_score(y_test, y_pred_rf)\n",
        "\n",
        "print(\"Bagging Classifier Accuracy:\", accuracy_bagging)\n",
        "print(\"Random Forest Accuracy:\", accuracy_rf)\n"
      ]
    },
    {
      "cell_type": "markdown",
      "metadata": {
        "id": "Paflp3FOZeun"
      },
      "source": [
        "31. Train a Random Forest Classifier and tune hyperparameters using GridSearchCV."
      ]
    },
    {
      "cell_type": "code",
      "execution_count": 17,
      "metadata": {
        "colab": {
          "base_uri": "https://localhost:8080/"
        },
        "id": "6vAKicxqZV9R",
        "outputId": "dbc962ac-4672-4263-f46b-76e53cfe9b50"
      },
      "outputs": [
        {
          "output_type": "stream",
          "name": "stdout",
          "text": [
            "Best Parameters: {'n_estimators': 50, 'min_samples_split': 2, 'min_samples_leaf': 1, 'max_depth': None}\n",
            "Accuracy: 0.9707602339181286\n"
          ]
        }
      ],
      "source": [
        "from sklearn.datasets import load_breast_cancer\n",
        "from sklearn.model_selection import train_test_split, RandomizedSearchCV\n",
        "from sklearn.ensemble import RandomForestClassifier\n",
        "from sklearn.metrics import accuracy_score\n",
        "import numpy as np\n",
        "\n",
        "data = load_breast_cancer()\n",
        "X = data.data\n",
        "y = data.target\n",
        "\n",
        "X_train, X_test, y_train, y_test = train_test_split(X, y, test_size=0.3, random_state=42)\n",
        "\n",
        "param_dist = {\n",
        "    'n_estimators': [50, 100, 150],\n",
        "    'max_depth': [None, 5, 10],\n",
        "    'min_samples_split': [2, 5, 10],\n",
        "    'min_samples_leaf': [1, 2, 4]\n",
        "}\n",
        "\n",
        "rf_model = RandomForestClassifier(random_state=42)\n",
        "random_search = RandomizedSearchCV(estimator=rf_model, param_distributions=param_dist,\n",
        "                                   n_iter=20, cv=3, n_jobs=-1, random_state=42)\n",
        "random_search.fit(X_train, y_train)\n",
        "\n",
        "best_model = random_search.best_estimator_\n",
        "y_pred = best_model.predict(X_test)\n",
        "accuracy = accuracy_score(y_test, y_pred)\n",
        "\n",
        "print(\"Best Parameters:\", random_search.best_params_)\n",
        "print(\"Accuracy:\", accuracy)\n"
      ]
    },
    {
      "cell_type": "markdown",
      "metadata": {
        "id": "ootBq2hFZqEz"
      },
      "source": [
        "32. Train a Bagging Regressor with different numbers of base estimators and compare performance."
      ]
    },
    {
      "cell_type": "code",
      "execution_count": 18,
      "metadata": {
        "colab": {
          "base_uri": "https://localhost:8080/"
        },
        "id": "jK0HET6RZm3T",
        "outputId": "e961254e-7097-4df7-90e2-04225bb1e4b0"
      },
      "outputs": [
        {
          "output_type": "stream",
          "name": "stdout",
          "text": [
            "Number of Estimators: 10, MSE: 0.2862\n",
            "Number of Estimators: 50, MSE: 0.2579\n",
            "Number of Estimators: 100, MSE: 0.2568\n",
            "Number of Estimators: 200, MSE: 0.2542\n"
          ]
        }
      ],
      "source": [
        "from sklearn.datasets import fetch_california_housing\n",
        "from sklearn.model_selection import train_test_split\n",
        "from sklearn.ensemble import BaggingRegressor\n",
        "from sklearn.tree import DecisionTreeRegressor\n",
        "from sklearn.metrics import mean_squared_error\n",
        "\n",
        "housing = fetch_california_housing()\n",
        "X = housing.data\n",
        "y = housing.target\n",
        "\n",
        "X_train, X_test, y_train, y_test = train_test_split(X, y, test_size=0.3, random_state=42)\n",
        "\n",
        "n_estimators_list = [10, 50, 100, 200]\n",
        "\n",
        "for n in n_estimators_list:\n",
        "    model = BaggingRegressor(estimator=DecisionTreeRegressor(), n_estimators=n, random_state=42)\n",
        "    model.fit(X_train, y_train)\n",
        "    y_pred = model.predict(X_test)\n",
        "    mse = mean_squared_error(y_test, y_pred)\n",
        "    print(f\"Number of Estimators: {n}, MSE: {mse:.4f}\")\n"
      ]
    },
    {
      "cell_type": "markdown",
      "source": [
        "33. Train a Random Forest Classifier and analyze misclassified samples."
      ],
      "metadata": {
        "id": "IJ-v_VC4hNyT"
      }
    },
    {
      "cell_type": "code",
      "execution_count": 19,
      "metadata": {
        "id": "6FPJ9EY5ZzDY",
        "colab": {
          "base_uri": "https://localhost:8080/"
        },
        "outputId": "a2846563-88ae-43ed-cc6e-b93b931dafe3"
      },
      "outputs": [
        {
          "output_type": "stream",
          "name": "stdout",
          "text": [
            "Number of Misclassified Samples: 5\n",
            "Indices of Misclassified Samples: [8, 20, 77, 82, 164]\n"
          ]
        }
      ],
      "source": [
        "from sklearn.datasets import load_breast_cancer\n",
        "from sklearn.model_selection import train_test_split\n",
        "from sklearn.ensemble import RandomForestClassifier\n",
        "\n",
        "data = load_breast_cancer()\n",
        "X = data.data\n",
        "y = data.target\n",
        "\n",
        "X_train, X_test, y_train, y_test = train_test_split(X, y, test_size=0.3, random_state=42)\n",
        "\n",
        "model = RandomForestClassifier(n_estimators=100, random_state=42)\n",
        "model.fit(X_train, y_train)\n",
        "\n",
        "y_pred = model.predict(X_test)\n",
        "\n",
        "misclassified_indices = [i for i, (true, pred) in enumerate(zip(y_test, y_pred)) if true != pred]\n",
        "\n",
        "print(\"Number of Misclassified Samples:\", len(misclassified_indices))\n",
        "print(\"Indices of Misclassified Samples:\", misclassified_indices)\n"
      ]
    },
    {
      "cell_type": "markdown",
      "source": [
        "34. Train a Bagging Classifier and compare its performance with a single Decision Tree Classifier."
      ],
      "metadata": {
        "id": "6suaCe1_henq"
      }
    },
    {
      "cell_type": "code",
      "source": [
        "from sklearn.datasets import load_iris\n",
        "from sklearn.model_selection import train_test_split\n",
        "from sklearn.ensemble import BaggingClassifier\n",
        "from sklearn.tree import DecisionTreeClassifier\n",
        "from sklearn.metrics import accuracy_score\n",
        "\n",
        "data = load_iris()\n",
        "X = data.data\n",
        "y = data.target\n",
        "\n",
        "X_train, X_test, y_train, y_test = train_test_split(X, y, test_size=0.3, random_state=42)\n",
        "\n",
        "# Single Decision Tree\n",
        "dt_model = DecisionTreeClassifier(random_state=42)\n",
        "dt_model.fit(X_train, y_train)\n",
        "y_pred_dt = dt_model.predict(X_test)\n",
        "accuracy_dt = accuracy_score(y_test, y_pred_dt)\n",
        "\n",
        "# Bagging Classifier with Decision Tree\n",
        "bagging_model = BaggingClassifier(estimator=DecisionTreeClassifier(), n_estimators=50, random_state=42)\n",
        "bagging_model.fit(X_train, y_train)\n",
        "y_pred_bagging = bagging_model.predict(X_test)\n",
        "accuracy_bagging = accuracy_score(y_test, y_pred_bagging)\n",
        "\n",
        "print(\"Decision Tree Accuracy:\", accuracy_dt)\n",
        "print(\"Bagging Classifier Accuracy:\", accuracy_bagging)\n"
      ],
      "metadata": {
        "colab": {
          "base_uri": "https://localhost:8080/"
        },
        "id": "u7nzKuuDhYhd",
        "outputId": "a82c6475-984e-4a41-e23f-ee0f085cab53"
      },
      "execution_count": 20,
      "outputs": [
        {
          "output_type": "stream",
          "name": "stdout",
          "text": [
            "Decision Tree Accuracy: 1.0\n",
            "Bagging Classifier Accuracy: 1.0\n"
          ]
        }
      ]
    },
    {
      "cell_type": "markdown",
      "source": [
        "35. Train a Random Forest Classifier and visualize the confusion matrix."
      ],
      "metadata": {
        "id": "DIw2Cduqhqbn"
      }
    },
    {
      "cell_type": "code",
      "source": [
        "from sklearn.datasets import load_breast_cancer\n",
        "from sklearn.model_selection import train_test_split\n",
        "from sklearn.ensemble import RandomForestClassifier\n",
        "from sklearn.metrics import confusion_matrix, ConfusionMatrixDisplay\n",
        "\n",
        "data = load_breast_cancer()\n",
        "X = data.data\n",
        "y = data.target\n",
        "\n",
        "X_train, X_test, y_train, y_test = train_test_split(X, y, test_size=0.3, random_state=42)\n",
        "\n",
        "model = RandomForestClassifier(n_estimators=100, random_state=42)\n",
        "model.fit(X_train, y_train)\n",
        "\n",
        "y_pred = model.predict(X_test)\n",
        "\n",
        "cm = confusion_matrix(y_test, y_pred)\n",
        "disp = ConfusionMatrixDisplay(confusion_matrix=cm, display_labels=data.target_names)\n",
        "disp.plot()\n"
      ],
      "metadata": {
        "colab": {
          "base_uri": "https://localhost:8080/",
          "height": 466
        },
        "id": "842HV2_jhleg",
        "outputId": "795eded4-0c97-4edd-a23e-a4b779e0757e"
      },
      "execution_count": 21,
      "outputs": [
        {
          "output_type": "execute_result",
          "data": {
            "text/plain": [
              "<sklearn.metrics._plot.confusion_matrix.ConfusionMatrixDisplay at 0x7a80937aef60>"
            ]
          },
          "metadata": {},
          "execution_count": 21
        },
        {
          "output_type": "display_data",
          "data": {
            "text/plain": [
              "<Figure size 640x480 with 2 Axes>"
            ],
            "image/png": "[encoded data removed]"
          },
          "metadata": {}
        }
      ]
    },
    {
      "cell_type": "markdown",
      "source": [
        "36. Train a Stacking Classifier using Decision Trees, SVM, and Logistic Regression, and compare accuracy."
      ],
      "metadata": {
        "id": "y6jd3vqah0Nn"
      }
    },
    {
      "cell_type": "code",
      "source": [
        "from sklearn.datasets import load_iris\n",
        "from sklearn.model_selection import train_test_split\n",
        "from sklearn.ensemble import StackingClassifier\n",
        "from sklearn.tree import DecisionTreeClassifier\n",
        "from sklearn.svm import SVC\n",
        "from sklearn.linear_model import LogisticRegression\n",
        "from sklearn.metrics import accuracy_score\n",
        "from sklearn.preprocessing import StandardScaler\n",
        "from sklearn.pipeline import make_pipeline\n",
        "\n",
        "data = load_iris()\n",
        "X = data.data\n",
        "y = data.target\n",
        "\n",
        "scaler = StandardScaler()\n",
        "X = scaler.fit_transform(X)\n",
        "\n",
        "X_train, X_test, y_train, y_test = train_test_split(X, y, test_size=0.3, random_state=42)\n",
        "\n",
        "estimators = [\n",
        "    ('dt', DecisionTreeClassifier()),\n",
        "    ('svm', SVC(probability=True)),\n",
        "    ('lr', LogisticRegression(max_iter=1000))\n",
        "]\n",
        "\n",
        "stacking_model = StackingClassifier(estimators=estimators, final_estimator=LogisticRegression())\n",
        "stacking_model.fit(X_train, y_train)\n",
        "\n",
        "y_pred = stacking_model.predict(X_test)\n",
        "accuracy = accuracy_score(y_test, y_pred)\n",
        "print(\"Stacking Classifier Accuracy:\", accuracy)\n"
      ],
      "metadata": {
        "colab": {
          "base_uri": "https://localhost:8080/"
        },
        "id": "IVtP_oFwhvPp",
        "outputId": "591739f1-5269-4a70-d911-afeea785f54a"
      },
      "execution_count": 22,
      "outputs": [
        {
          "output_type": "stream",
          "name": "stdout",
          "text": [
            "Stacking Classifier Accuracy: 1.0\n"
          ]
        }
      ]
    },
    {
      "cell_type": "markdown",
      "source": [
        "37. Train a Random Forest Classifier and print the top 5 most important features."
      ],
      "metadata": {
        "id": "wr5AWdpVh6WM"
      }
    },
    {
      "cell_type": "code",
      "source": [
        "from sklearn.datasets import load_breast_cancer\n",
        "from sklearn.model_selection import train_test_split\n",
        "from sklearn.ensemble import RandomForestClassifier\n",
        "import numpy as np\n",
        "\n",
        "data = load_breast_cancer()\n",
        "X = data.data\n",
        "y = data.target\n",
        "feature_names = data.feature_names\n",
        "\n",
        "X_train, X_test, y_train, y_test = train_test_split(X, y, test_size=0.3, random_state=42)\n",
        "\n",
        "model = RandomForestClassifier(n_estimators=100, random_state=42)\n",
        "model.fit(X_train, y_train)\n",
        "\n",
        "importances = model.feature_importances_\n",
        "indices = np.argsort(importances)[::-1][:5]\n",
        "\n",
        "for i in indices:\n",
        "    print(f\"{feature_names[i]}: {importances[i]:.4f}\")\n"
      ],
      "metadata": {
        "colab": {
          "base_uri": "https://localhost:8080/"
        },
        "id": "0G0JaIiRh5Wi",
        "outputId": "a2190b05-813c-442f-c0a4-abb559190254"
      },
      "execution_count": 23,
      "outputs": [
        {
          "output_type": "stream",
          "name": "stdout",
          "text": [
            "mean concave points: 0.1419\n",
            "worst concave points: 0.1271\n",
            "worst area: 0.1182\n",
            "mean concavity: 0.0806\n",
            "worst radius: 0.0780\n"
          ]
        }
      ]
    },
    {
      "cell_type": "markdown",
      "source": [
        "38. Train a Bagging Classifier and evaluate performance using Precision, Recall, and F1-score."
      ],
      "metadata": {
        "id": "bJfmCakKiGej"
      }
    },
    {
      "cell_type": "code",
      "source": [
        "from sklearn.datasets import load_iris\n",
        "from sklearn.model_selection import train_test_split\n",
        "from sklearn.ensemble import BaggingClassifier\n",
        "from sklearn.tree import DecisionTreeClassifier\n",
        "from sklearn.metrics import precision_score, recall_score, f1_score\n",
        "\n",
        "data = load_iris()\n",
        "X = data.data\n",
        "y = data.target\n",
        "\n",
        "X_train, X_test, y_train, y_test = train_test_split(X, y, test_size=0.3, random_state=42)\n",
        "\n",
        "model = BaggingClassifier(estimator=DecisionTreeClassifier(), n_estimators=50, random_state=42)\n",
        "model.fit(X_train, y_train)\n",
        "\n",
        "y_pred = model.predict(X_test)\n",
        "\n",
        "precision = precision_score(y_test, y_pred, average='weighted')\n",
        "recall = recall_score(y_test, y_pred, average='weighted')\n",
        "f1 = f1_score(y_test, y_pred, average='weighted')\n",
        "\n",
        "print(\"Precision:\", precision)\n",
        "print(\"Recall:\", recall)\n",
        "print(\"F1-Score:\", f1)\n"
      ],
      "metadata": {
        "colab": {
          "base_uri": "https://localhost:8080/"
        },
        "id": "a9i95i9tiDC2",
        "outputId": "b0c1d9d9-33c0-4140-f142-a96946c3da7f"
      },
      "execution_count": 24,
      "outputs": [
        {
          "output_type": "stream",
          "name": "stdout",
          "text": [
            "Precision: 1.0\n",
            "Recall: 1.0\n",
            "F1-Score: 1.0\n"
          ]
        }
      ]
    },
    {
      "cell_type": "markdown",
      "source": [
        "39. Train a Random Forest Classifier and analyze the effect of max_depth on accuracy."
      ],
      "metadata": {
        "id": "XOx-ZWlMiR3p"
      }
    },
    {
      "cell_type": "code",
      "source": [
        "from sklearn.datasets import load_breast_cancer\n",
        "from sklearn.model_selection import train_test_split\n",
        "from sklearn.ensemble import RandomForestClassifier\n",
        "from sklearn.metrics import accuracy_score\n",
        "\n",
        "data = load_breast_cancer()\n",
        "X = data.data\n",
        "y = data.target\n",
        "\n",
        "X_train, X_test, y_train, y_test = train_test_split(X, y, test_size=0.3, random_state=42)\n",
        "\n",
        "max_depth_values = [None, 2, 4, 6, 8, 10]\n",
        "\n",
        "for depth in max_depth_values:\n",
        "    model = RandomForestClassifier(n_estimators=100, max_depth=depth, random_state=42)\n",
        "    model.fit(X_train, y_train)\n",
        "    y_pred = model.predict(X_test)\n",
        "    accuracy = accuracy_score(y_test, y_pred)\n",
        "    print(f\"Max Depth: {depth}, Accuracy: {accuracy:.4f}\")\n"
      ],
      "metadata": {
        "colab": {
          "base_uri": "https://localhost:8080/"
        },
        "id": "UeenjXJdiOM-",
        "outputId": "552a724a-abdb-4295-c684-43e83a271eef"
      },
      "execution_count": 25,
      "outputs": [
        {
          "output_type": "stream",
          "name": "stdout",
          "text": [
            "Max Depth: None, Accuracy: 0.9708\n",
            "Max Depth: 2, Accuracy: 0.9532\n",
            "Max Depth: 4, Accuracy: 0.9708\n",
            "Max Depth: 6, Accuracy: 0.9649\n",
            "Max Depth: 8, Accuracy: 0.9708\n",
            "Max Depth: 10, Accuracy: 0.9708\n"
          ]
        }
      ]
    },
    {
      "cell_type": "markdown",
      "source": [
        "40. Train a Bagging Regressor using different base estimators (DecisionTree and KNeighbors) and compare performance."
      ],
      "metadata": {
        "id": "Y2g_RXwSifOm"
      }
    },
    {
      "cell_type": "code",
      "source": [
        "from sklearn.datasets import fetch_california_housing\n",
        "from sklearn.model_selection import train_test_split\n",
        "from sklearn.ensemble import BaggingRegressor\n",
        "from sklearn.tree import DecisionTreeRegressor\n",
        "from sklearn.neighbors import KNeighborsRegressor\n",
        "from sklearn.metrics import mean_squared_error\n",
        "\n",
        "housing = fetch_california_housing()\n",
        "X = housing.data\n",
        "y = housing.target\n",
        "\n",
        "X_train, X_test, y_train, y_test = train_test_split(X, y, test_size=0.3, random_state=42)\n",
        "\n",
        "# Bagging with Decision Tree\n",
        "dt_model = BaggingRegressor(estimator=DecisionTreeRegressor(), n_estimators=50, random_state=42)\n",
        "dt_model.fit(X_train, y_train)\n",
        "y_pred_dt = dt_model.predict(X_test)\n",
        "mse_dt = mean_squared_error(y_test, y_pred_dt)\n",
        "\n",
        "# Bagging with K-Neighbors\n",
        "knn_model = BaggingRegressor(estimator=KNeighborsRegressor(), n_estimators=50, random_state=42)\n",
        "knn_model.fit(X_train, y_train)\n",
        "y_pred_knn = knn_model.predict(X_test)\n",
        "mse_knn = mean_squared_error(y_test, y_pred_knn)\n",
        "\n",
        "print(\"Bagging with Decision Tree MSE:\", mse_dt)\n",
        "print(\"Bagging with K-Neighbors MSE:\", mse_knn)\n"
      ],
      "metadata": {
        "colab": {
          "base_uri": "https://localhost:8080/"
        },
        "id": "7iQnGNjKiWlV",
        "outputId": "609d6c35-344f-46ca-b310-8803dd0de426"
      },
      "execution_count": 26,
      "outputs": [
        {
          "output_type": "stream",
          "name": "stdout",
          "text": [
            "Bagging with Decision Tree MSE: 0.25787382250585034\n",
            "Bagging with K-Neighbors MSE: 1.1020902555745289\n"
          ]
        }
      ]
    },
    {
      "cell_type": "markdown",
      "source": [
        "41. Train a Random Forest Classifier and evaluate its performance using ROC-AUC Score."
      ],
      "metadata": {
        "id": "YLRlihMUip4x"
      }
    },
    {
      "cell_type": "code",
      "source": [
        "from sklearn.datasets import load_breast_cancer\n",
        "from sklearn.model_selection import train_test_split\n",
        "from sklearn.ensemble import RandomForestClassifier\n",
        "from sklearn.metrics import roc_auc_score\n",
        "\n",
        "data = load_breast_cancer()\n",
        "X = data.data\n",
        "y = data.target\n",
        "\n",
        "X_train, X_test, y_train, y_test = train_test_split(X, y, test_size=0.3, random_state=42)\n",
        "\n",
        "model = RandomForestClassifier(n_estimators=100, random_state=42)\n",
        "model.fit(X_train, y_train)\n",
        "\n",
        "y_pred_proba = model.predict_proba(X_test)[:, 1]\n",
        "roc_auc = roc_auc_score(y_test, y_pred_proba)\n",
        "print(\"ROC-AUC Score:\", roc_auc)\n"
      ],
      "metadata": {
        "colab": {
          "base_uri": "https://localhost:8080/"
        },
        "id": "f7oAJAMJimr8",
        "outputId": "063f725e-6750-44e8-caba-da4dc19f66de"
      },
      "execution_count": 27,
      "outputs": [
        {
          "output_type": "stream",
          "name": "stdout",
          "text": [
            "ROC-AUC Score: 0.9968400940623163\n"
          ]
        }
      ]
    },
    {
      "cell_type": "markdown",
      "source": [
        "42. Train a Bagging Classifier and evaluate its performance using cross-validatio."
      ],
      "metadata": {
        "id": "zoLlZOYhi0GB"
      }
    },
    {
      "cell_type": "code",
      "source": [
        "from sklearn.datasets import load_iris\n",
        "from sklearn.ensemble import BaggingClassifier\n",
        "from sklearn.tree import DecisionTreeClassifier\n",
        "from sklearn.model_selection import cross_val_score\n",
        "\n",
        "data = load_iris()\n",
        "X = data.data\n",
        "y = data.target\n",
        "\n",
        "model = BaggingClassifier(estimator=DecisionTreeClassifier(), n_estimators=50, random_state=42)\n",
        "scores = cross_val_score(model, X, y, cv=5, scoring='accuracy')\n",
        "\n",
        "print(\"Cross-Validation Accuracy Scores:\", scores)\n",
        "print(\"Mean Accuracy:\", scores.mean())\n"
      ],
      "metadata": {
        "colab": {
          "base_uri": "https://localhost:8080/"
        },
        "id": "7j4MzR4fiv5v",
        "outputId": "a6af8521-4670-4813-c0a3-7c4b99c17838"
      },
      "execution_count": 28,
      "outputs": [
        {
          "output_type": "stream",
          "name": "stdout",
          "text": [
            "Cross-Validation Accuracy Scores: [0.96666667 0.96666667 0.93333333 0.96666667 1.        ]\n",
            "Mean Accuracy: 0.9666666666666668\n"
          ]
        }
      ]
    },
    {
      "cell_type": "markdown",
      "source": [
        "43. Train a Random Forest Classifier and plot the Precision-Recall curv."
      ],
      "metadata": {
        "id": "IBPO3f-yi8ya"
      }
    },
    {
      "cell_type": "code",
      "source": [
        "from sklearn.datasets import load_breast_cancer\n",
        "from sklearn.model_selection import train_test_split\n",
        "from sklearn.ensemble import RandomForestClassifier\n",
        "from sklearn.metrics import precision_recall_curve, PrecisionRecallDisplay\n",
        "\n",
        "data = load_breast_cancer()\n",
        "X = data.data\n",
        "y = data.target\n",
        "\n",
        "X_train, X_test, y_train, y_test = train_test_split(X, y, test_size=0.3, random_state=42)\n",
        "\n",
        "model = RandomForestClassifier(n_estimators=100, random_state=42)\n",
        "model.fit(X_train, y_train)\n",
        "\n",
        "y_pred_proba = model.predict_proba(X_test)[:, 1]\n",
        "precision, recall, _ = precision_recall_curve(y_test, y_pred_proba)\n",
        "\n",
        "disp = PrecisionRecallDisplay(precision=precision, recall=recall)\n",
        "disp.plot()\n"
      ],
      "metadata": {
        "colab": {
          "base_uri": "https://localhost:8080/",
          "height": 468
        },
        "id": "Bd7XQ3tUi54Y",
        "outputId": "0e8fb282-b9fa-46ca-d461-92ef70478640"
      },
      "execution_count": 29,
      "outputs": [
        {
          "output_type": "execute_result",
          "data": {
            "text/plain": [
              "<sklearn.metrics._plot.precision_recall_curve.PrecisionRecallDisplay at 0x7a80b6997110>"
            ]
          },
          "metadata": {},
          "execution_count": 29
        },
        {
          "output_type": "display_data",
          "data": {
            "text/plain": [
              "<Figure size 640x480 with 1 Axes>"
            ],
            "image/png": "[encoded data removed]"
          },
          "metadata": {}
        }
      ]
    },
    {
      "cell_type": "markdown",
      "source": [
        "44. Train a Stacking Classifier with Random Forest and Logistic Regression and compare accuracy."
      ],
      "metadata": {
        "id": "8TZ4nM4MjJZ-"
      }
    },
    {
      "cell_type": "code",
      "source": [
        "from sklearn.datasets import load_iris\n",
        "from sklearn.model_selection import train_test_split\n",
        "from sklearn.ensemble import StackingClassifier, RandomForestClassifier\n",
        "from sklearn.linear_model import LogisticRegression\n",
        "from sklearn.metrics import accuracy_score\n",
        "\n",
        "data = load_iris()\n",
        "X = data.data\n",
        "y = data.target\n",
        "\n",
        "X_train, X_test, y_train, y_test = train_test_split(X, y, test_size=0.3, random_state=42)\n",
        "\n",
        "estimators = [\n",
        "    ('rf', RandomForestClassifier(n_estimators=100, random_state=42))\n",
        "]\n",
        "\n",
        "stacking_model = StackingClassifier(estimators=estimators, final_estimator=LogisticRegression(max_iter=1000))\n",
        "stacking_model.fit(X_train, y_train)\n",
        "\n",
        "y_pred = stacking_model.predict(X_test)\n",
        "accuracy = accuracy_score(y_test, y_pred)\n",
        "print(\"Stacking Classifier Accuracy:\", accuracy)\n"
      ],
      "metadata": {
        "colab": {
          "base_uri": "https://localhost:8080/"
        },
        "id": "c6lAnBLIjCab",
        "outputId": "278fc740-874c-43a1-a2e3-a0e79e13c79c"
      },
      "execution_count": 30,
      "outputs": [
        {
          "output_type": "stream",
          "name": "stdout",
          "text": [
            "Stacking Classifier Accuracy: 1.0\n"
          ]
        }
      ]
    },
    {
      "cell_type": "markdown",
      "source": [
        "45. Train a Bagging Regressor with different levels of bootstrap samples and compare performance."
      ],
      "metadata": {
        "id": "G8NjWdHTjQi4"
      }
    },
    {
      "cell_type": "code",
      "source": [
        "from sklearn.datasets import fetch_california_housing\n",
        "from sklearn.model_selection import train_test_split\n",
        "from sklearn.ensemble import BaggingRegressor\n",
        "from sklearn.tree import DecisionTreeRegressor\n",
        "from sklearn.metrics import mean_squared_error\n",
        "\n",
        "housing = fetch_california_housing()\n",
        "X = housing.data\n",
        "y = housing.target\n",
        "\n",
        "X_train, X_test, y_train, y_test = train_test_split(X, y, test_size=0.3, random_state=42)\n",
        "\n",
        "bootstrap_options = [True, False]\n",
        "\n",
        "for bootstrap in bootstrap_options:\n",
        "    model = BaggingRegressor(estimator=DecisionTreeRegressor(), n_estimators=50, bootstrap=bootstrap, random_state=42)\n",
        "    model.fit(X_train, y_train)\n",
        "    y_pred = model.predict(X_test)\n",
        "    mse = mean_squared_error(y_test, y_pred)\n",
        "    print(f\"Bootstrap={bootstrap}, MSE={mse:.4f}\")\n"
      ],
      "metadata": {
        "colab": {
          "base_uri": "https://localhost:8080/"
        },
        "id": "uNC1lJaqjND5",
        "outputId": "106bb6e9-adb9-4aa8-ff87-a0e3c5d58eed"
      },
      "execution_count": null,
      "outputs": [
        {
          "output_type": "stream",
          "name": "stdout",
          "text": [
            "Bootstrap=True, MSE=0.2579\n"
          ]
        }
      ]
    },
    {
      "cell_type": "markdown",
      "source": [
        "---\n",
        "---"
      ],
      "metadata": {
        "id": "KbYrLXsAkQep"
      }
    }
  ],
  "metadata": {
    "colab": {
      "provenance": []
    },
    "kernelspec": {
      "display_name": "Python 3",
      "name": "python3"
    },
    "language_info": {
      "name": "python"
    }
  },
  "nbformat": 4,
  "nbformat_minor": 0
}